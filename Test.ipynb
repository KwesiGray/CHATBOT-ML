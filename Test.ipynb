{
 "cells": [
  {
   "cell_type": "markdown",
   "metadata": {},
   "source": [
    "#### IMPORTING ALL NECESSARY LIBRARIES FOR THE CHATBot."
   ]
  },
  {
   "cell_type": "code",
   "execution_count": null,
   "metadata": {},
   "outputs": [],
   "source": [
    "import numpy as np      #For the array\n",
    "import json             #For the conversation dataset between the user and the CHATBOT    \n",
    "   \n",
    "import tensorflow as tf #For training our model\n",
    "from tensorflow import keras  #For training our model for our Tensorflow\n",
    "\n",
    "from tensorflow.keras.models import Sequential\n",
    "from tensorflow.keras.layers import Dense, Embedding, GlobalAveragePooling1D\n",
    "from tensorflow.keras.preprocessing.text import Tokenizer\n",
    "from tensorflow.keras.preprocessing.sequence import pad_sequences\n",
    "\n",
    "from sklearn.preprocessing import LabelEncoder\n",
    "import os # for getting the working directory of a file to import\n"
   ]
  },
  {
   "cell_type": "code",
   "execution_count": null,
   "metadata": {},
   "outputs": [],
   "source": [
    "keras.optimizers.Adam "
   ]
  },
  {
   "cell_type": "code",
   "execution_count": null,
   "metadata": {},
   "outputs": [],
   "source": [
    "os.getcwd()\n",
    "with open('c:\\\\Users\\\\Agent Breslin\\\\Desktop\\\\ChatBOT -ML\\\\intents.json') as file:\n",
    "    data = json.load(file)\n",
    "print(data) #The Contents of the JSON File Printed Out"
   ]
  },
  {
   "cell_type": "markdown",
   "metadata": {},
   "source": [
    "#### Creating the arrays to hold the respective data sets in the JSON file"
   ]
  },
  {
   "cell_type": "code",
   "execution_count": null,
   "metadata": {},
   "outputs": [],
   "source": [
    "training_sentences = []\n",
    "training_lables = []\n",
    "lables = []     #Lables are nothing but TAGS in the json file \n",
    "responses = []"
   ]
  },
  {
   "cell_type": "code",
   "execution_count": null,
   "metadata": {},
   "outputs": [],
   "source": [
    "for intent in data['intents']:\n",
    "    for pattern in intent[\"patterns\"]:\n",
    "        training_sentences.append(pattern)\n",
    "        training_lables = np.array(training_lables).tolist()\n",
    "        training_lables.append(intent[\"tag\"])\n",
    "    responses.append(intent[\"responses\"])\n",
    "\n"
   ]
  },
  {
   "cell_type": "code",
   "execution_count": null,
   "metadata": {},
   "outputs": [],
   "source": [
    "if intent ['tag'] not in lables:\n",
    "    lables.append(intent['tag'])  #Lables are nothing but TAGS in the json file\n",
    "\n",
    "num_classes = len(lables)  #The number of classes for the classification  "
   ]
  },
  {
   "cell_type": "markdown",
   "metadata": {},
   "source": [
    "#### Encode Lables \n",
    "##### For Converting the lables to numeric format"
   ]
  },
  {
   "cell_type": "code",
   "execution_count": null,
   "metadata": {},
   "outputs": [],
   "source": [
    "lbl_Encoder = LabelEncoder()\n",
    "lbl_Encoder.fit(training_lables)\n",
    "training_lables = lbl_Encoder.transform(training_lables)\n",
    "\n",
    "print(training_lables) # To validate if the lables have been converted to numerical format \n"
   ]
  },
  {
   "cell_type": "markdown",
   "metadata": {},
   "source": [
    "## TOKENIZATION"
   ]
  },
  {
   "cell_type": "code",
   "execution_count": null,
   "metadata": {},
   "outputs": [],
   "source": [
    "vocab_size = 1000 #The number of words in the vocabulary\n",
    "embedding_dim = 16 #The number of dimensions for the word embedding\n",
    "max_len = 16 #The maximum length of the sentence\n",
    "oov_token = \"<OOV>\" #The out of vocabulary token\n",
    "\n",
    "\n",
    "tokenizer = Tokenizer(num_words=vocab_size, oov_token=oov_token) #Creating the tokenizer to tokenize the words\n",
    "tokenizer.fit_on_texts(training_sentences) #Fitting the tokenizer on the training sentences\n",
    "word_index = tokenizer.word_index #Getting the word index from the tokenizer\n",
    "\n",
    "sequences = tokenizer.texts_to_sequences(training_sentences) #Getting the sequences\n",
    "padded_sequences = pad_sequences(sequences, truncating=\"post\", maxlen=max_len) #Padding the sequences\n"
   ]
  },
  {
   "cell_type": "markdown",
   "metadata": {},
   "source": [
    "## TRAINING NEURAL NETWORKS\n"
   ]
  },
  {
   "cell_type": "code",
   "execution_count": null,
   "metadata": {},
   "outputs": [],
   "source": [
    "num_classes = len(np.unique(training_lables))\n",
    "model = Sequential() #Creating a sequential model\n",
    "\n",
    "model.add(Embedding(vocab_size, embedding_dim, input_length=max_len)) #Adding an embedding layer\n",
    "\n",
    "model.add(GlobalAveragePooling1D()) #Adding a GlobalAveragePooling2D layer\n",
    "\n",
    "model.add(Dense(32, activation='relu'))\n",
    "model.add(Dense(32, activation='relu'))\n",
    "\n",
    "# Add more Dense layers\n",
    "model.add(Dense(32, activation='relu'))\n",
    "model.add(Dense(32, activation='relu'))\n",
    "\n",
    "model.add(Dense(num_classes, activation='softmax')) #Adding an output layer\n",
    "\n",
    "\n",
    "model.compile(loss='sparse_categorical_crossentropy', optimizer='adam', metrics=['accuracy']) #Compiling the model\n",
    "keras.optimizers.Adam \n",
    "\n",
    "\n",
    "# Build the model\n",
    "model.build((None, max_len))\n",
    "\n",
    "model.summary() #Getting a summary of the model\n",
    "epochs = 500 #The number of epochs\n",
    "history = model.fit(padded_sequences, np.array(training_lables), epochs=epochs) #Fitting the model\n"
   ]
  },
  {
   "cell_type": "code",
   "execution_count": null,
   "metadata": {},
   "outputs": [],
   "source": [
    "\n",
    "#len(padded_sequences) #To check the length of the padded sequence\n",
    "len(training_lables) #To check the length of the training lables"
   ]
  },
  {
   "cell_type": "markdown",
   "metadata": {},
   "source": [
    "## SAVE TRAINED MODEL"
   ]
  },
  {
   "cell_type": "code",
   "execution_count": null,
   "metadata": {},
   "outputs": [],
   "source": [
    "model.save('chat.h5') # Saving the model in h5 extension \n",
    "\n",
    "\n",
    "import pickle #For saving the tokenizer and label encoder\n",
    "with open('tokenizer.pickle', 'wb') as handle:\n",
    "    pickle.dump(tokenizer, handle, protocol= pickle.HIGHEST_PROTOCOL) # Saving the tokenizer\n",
    "    \n",
    "with open('lable_encoder.pickle', 'wb') as enc_file:\n",
    "    pickle.dump(lbl_Encoder, enc_file, protocol= pickle.HIGHEST_PROTOCOL) # Saving the label encoder"
   ]
  },
  {
   "cell_type": "code",
   "execution_count": null,
   "metadata": {},
   "outputs": [],
   "source": [
    "learning_rate = 0.3000  # Replace 0.001 with the desired learning rate value\n",
    "tf.keras.optimizers.Adam(learning_rate)"
   ]
  },
  {
   "cell_type": "markdown",
   "metadata": {},
   "source": [
    "## CHATBOT CONVERSATION"
   ]
  },
  {
   "cell_type": "code",
   "execution_count": null,
   "metadata": {},
   "outputs": [],
   "source": [
    "import colorama #For coloring the text\n",
    "colorama.init()\n",
    "from colorama import Fore, Style, Back\n",
    "\n",
    "import random \n",
    "import tensorflow as tf\n",
    "\n",
    "keras.optimizers.Adam \n",
    "\n",
    "with open('c:\\\\Users\\\\Agent Breslin\\\\Desktop\\\\ChatBOT -ML\\\\intents.json') as file:\n",
    "    data = json.load(file)\n",
    "    \n",
    "def chat():\n",
    "    model = keras.models.load_model('chat.h5') #Loading the model   \n",
    "    \n",
    "    with open('tokenizer.pickle', 'rb') as handle:\n",
    "        tokenizer = pickle.load(handle)\n",
    "        \n",
    "    with open('lable_encoder.pickle', 'rb') as enc:\n",
    "        lbl_Encoder = pickle.load(enc)\n",
    "        \n",
    "        max_len = 16\n",
    "        \n",
    "    while True:\n",
    "        print(Fore.LIGHTBLUE_EX + \"User: \" + Style.RESET_ALL, end=\"\")\n",
    "        inp= input()\n",
    "        if inp.lower() == \"quit\":\n",
    "            break\n",
    "        result = model.predict(tf.keras.preprocessing.sequence.pad_sequences(tokenizer.texts_to_sequences([inp]), truncating='post', maxlen=max_len))\n",
    "        tag =lbl_Encoder.inverse_transform([np.argmax(result)])\n",
    "        \n",
    "        for i in data['intents']:\n",
    "            if i['tag'] == tag:\n",
    "                print(Fore.GREEN + \"ChatBOT:\" + Style.RESET_ALL, np.random.choice(i['responses']))\n",
    "                \n",
    "print(Fore.YELLOW + \"Start Talking with the ChatBOT (Type quit to stop)!\" + Style.RESET_ALL)\n",
    "\n"
   ]
  },
  {
   "cell_type": "code",
   "execution_count": null,
   "metadata": {},
   "outputs": [],
   "source": [
    "\n",
    "\n",
    "chat()  # Calling the chat function\n"
   ]
  }
 ],
 "metadata": {
  "kernelspec": {
   "display_name": "venv",
   "language": "python",
   "name": "python3"
  },
  "language_info": {
   "codemirror_mode": {
    "name": "ipython",
    "version": 3
   },
   "file_extension": ".py",
   "mimetype": "text/x-python",
   "name": "python",
   "nbconvert_exporter": "python",
   "pygments_lexer": "ipython3",
   "version": "3.12.0"
  }
 },
 "nbformat": 4,
 "nbformat_minor": 2
}
