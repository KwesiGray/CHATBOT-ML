{
 "cells": [
  {
   "cell_type": "markdown",
   "metadata": {},
   "source": [
    "#### IMPORTING ALL NECESSARY LIBRARIES FOR THE CHATBot."
   ]
  },
  {
   "cell_type": "code",
   "execution_count": null,
   "metadata": {},
   "outputs": [],
   "source": [
    "import numpy as np      #For the array\n",
    "import json             #For the conversation dataset between the user and the CHATBOT       \n",
    "import tensorflow as tf #For training our model\n",
    "\n",
    "from tensorflow import keras  #For training our model for our Tensorflow\n",
    "from tensorflow.keras.models import Sequential\n",
    "from tensorflow.keras.layers import Dense, Embedding, GlobalAveragePooling2D\n",
    "from tensorflow.keras.preprocessing.text import Tokenizer\n",
    "from tensorflow.keras.preprocessing.sequence import pad_sequences\n",
    "\n",
    "from sklearn.preprocessing import LabelEncoder\n",
    "import os # for getting the working directory of a file to import\n",
    "\n"
   ]
  },
  {
   "cell_type": "code",
   "execution_count": null,
   "metadata": {},
   "outputs": [],
   "source": [
    "os.getcwd()\n",
    "with open('c:\\\\Users\\\\Agent Breslin\\\\Desktop\\\\ChatBOT -ML\\\\intents.json') as file:\n",
    "    data = json.load(file)\n",
    "print(data) #The Contents of the JSON File Printed Out"
   ]
  },
  {
   "cell_type": "markdown",
   "metadata": {},
   "source": [
    "#### Creating the arrays to hold the respective data sets in the JSON file"
   ]
  },
  {
   "cell_type": "code",
   "execution_count": null,
   "metadata": {},
   "outputs": [],
   "source": [
    "training_sentences = []\n",
    "training_lables = []\n",
    "lables = []     #Lables are nothing but TAGS in the json file \n",
    "responses = []"
   ]
  },
  {
   "cell_type": "code",
   "execution_count": null,
   "metadata": {},
   "outputs": [],
   "source": [
    "for intent in data['intents']:\n",
    "    for pattern in intent['patterns']:\n",
    "        training_sentences.append(pattern)\n",
    "        training_lables.append(intent['tag'])\n",
    "    responses.append(intent[\"response\"])"
   ]
  },
  {
   "cell_type": "code",
   "execution_count": null,
   "metadata": {},
   "outputs": [],
   "source": [
    "if intent ['tag'] not in lables:\n",
    "    lables.append(intent['tag'])  #Lables are nothing but TAGS in the json file"
   ]
  },
  {
   "cell_type": "markdown",
   "metadata": {},
   "source": [
    "#### Encode Lables \n",
    "##### For Converting the lables to numeric format"
   ]
  },
  {
   "cell_type": "code",
   "execution_count": null,
   "metadata": {},
   "outputs": [],
   "source": [
    "lbl_Encoder = LabelEncoder()\n",
    "lbl_Encoder.fit(training_lables)\n",
    "training_lables = lbl_Encoder.transform(training_lables)\n",
    "\n",
    "print(training_lables) # To validate if the lables have been converted to numerical format \n"
   ]
  },
  {
   "cell_type": "markdown",
   "metadata": {},
   "source": [
    "## TOKENIZATION"
   ]
  },
  {
   "cell_type": "code",
   "execution_count": 8,
   "metadata": {},
   "outputs": [],
   "source": [
    "vocab_size = 1000 #The number of words in the vocabulary\n",
    "embedding_dim = 16 #The number of dimensions for the word embedding\n",
    "max_len = 20 #The maximum length of the sentence\n",
    "oov_token = \"<OOV>\" #The out of vocabulary token\n",
    "\n",
    "tokenizer = Tokenizer(num_words=vocab_size, oov_token=oov_token) #Creating the tokenizer to tokenize the words\n",
    "tokenizer.fit_on_texts(training_sentences) #Fitting the tokenizer on the training sentences\n",
    "word_index = tokenizer.word_index #Getting the word index from the tokenizer\n",
    "\n",
    "sequences = tokenizer.texts_to_sequences(training_sentences) #Getting the sequences\n",
    "padded_sequences = pad_sequences(sequences, truncating=\"post\", maxlen=max_len) #Padding the sequences\n"
   ]
  }
 ],
 "metadata": {
  "kernelspec": {
   "display_name": "venv",
   "language": "python",
   "name": "python3"
  },
  "language_info": {
   "codemirror_mode": {
    "name": "ipython",
    "version": 3
   },
   "file_extension": ".py",
   "mimetype": "text/x-python",
   "name": "python",
   "nbconvert_exporter": "python",
   "pygments_lexer": "ipython3",
   "version": "3.12.0"
  }
 },
 "nbformat": 4,
 "nbformat_minor": 2
}
