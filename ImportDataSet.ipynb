{
 "cells": [
  {
   "cell_type": "markdown",
   "metadata": {},
   "source": [
    "IMPORT DATASET"
   ]
  },
  {
   "cell_type": "code",
   "execution_count": 4,
   "metadata": {},
   "outputs": [],
   "source": [
    "import os\n",
    "import json"
   ]
  },
  {
   "cell_type": "code",
   "execution_count": 5,
   "metadata": {},
   "outputs": [
    {
     "data": {
      "text/plain": [
       "'c:\\\\Users\\\\Agent Breslin\\\\Desktop\\\\ChatBOT -ML'"
      ]
     },
     "execution_count": 5,
     "metadata": {},
     "output_type": "execute_result"
    }
   ],
   "source": [
    "os.getcwd()"
   ]
  },
  {
   "cell_type": "code",
   "execution_count": 6,
   "metadata": {},
   "outputs": [],
   "source": [
    "with open('c:\\\\Users\\\\Agent Breslin\\\\Desktop\\\\ChatBOT -ML\\\\intents.json') as file:\n",
    "    data = json.load(file)\n"
   ]
  },
  {
   "cell_type": "code",
   "execution_count": 7,
   "metadata": {},
   "outputs": [
    {
     "name": "stdout",
     "output_type": "stream",
     "text": [
      "{'intents': [{'tag': 'greeting', 'patterns': ['Hi', 'Hey', 'Hello', 'Hay', 'Wosop'], 'response': ['Hello', 'Hi', \"What's Up\", 'Hay', 'Hi There']}, {'tag': 'goodbye', 'patterns': ['Bye', 'See You Later', 'GoodBye'], 'response': ['See You Later', 'Come Back Again', 'Have a Nice Day']}, {'tag': 'thanks', 'patterns': ['Thank You', 'Thanks', \"That's Helpful\", 'Thanks For The Help'], 'response': [\"You're Welcome\", 'My Pleasure', 'Any Time', 'Willing To Help!', \"Your're Most Welcome\"]}, {'tag': 'name', 'patterns': [\"What's Your Name\", 'Name', 'whats your name', 'what should i call you'], 'response': ['I am Breslin', 'Breslin Is The Name', 'Call Me Breslin', 'Breslin!', 'Agent Breslin Here!']}]}\n"
     ]
    }
   ],
   "source": [
    "print(data)"
   ]
  }
 ],
 "metadata": {
  "kernelspec": {
   "display_name": "venv",
   "language": "python",
   "name": "python3"
  },
  "language_info": {
   "codemirror_mode": {
    "name": "ipython",
    "version": 3
   },
   "file_extension": ".py",
   "mimetype": "text/x-python",
   "name": "python",
   "nbconvert_exporter": "python",
   "pygments_lexer": "ipython3",
   "version": "3.12.0"
  }
 },
 "nbformat": 4,
 "nbformat_minor": 2
}
